{
 "cells": [
  {
   "cell_type": "code",
   "execution_count": 2,
   "id": "032cbecb-dc4c-4e0e-b221-570e6cabd479",
   "metadata": {},
   "outputs": [],
   "source": [
    "import string\n",
    "import pandas as pd\n",
    "import pickle\n",
    "\n",
    "from nltk.corpus import stopwords\n",
    "from nltk.stem.porter import PorterStemmer\n",
    "\n",
    "from sklearn.feature_extraction.text import CountVectorizer\n",
    "from sklearn.model_selection import train_test_split\n",
    "from sklearn.ensemble import RandomForestClassifier\n",
    "\n",
    "\n",
    "DATASET_SIZE = 6000  # max 16315"
   ]
  },
  {
   "cell_type": "code",
   "execution_count": 3,
   "id": "b1bcd14d-4348-46fe-9475-9ceabe8a8a5d",
   "metadata": {},
   "outputs": [],
   "source": [
    "# Current shape (16315, 2)\n",
    "df = pd.read_csv(\"dataset.csv\")\n",
    "\n",
    "# Reducing dataset size so I can train the model\n",
    "df = df.iloc[:DATASET_SIZE]"
   ]
  },
  {
   "cell_type": "code",
   "execution_count": 4,
   "id": "a1a570a7-90af-44cc-9b77-80700a1fa23f",
   "metadata": {},
   "outputs": [],
   "source": [
    "def clean_text_data(text: str) -> str:\n",
    "    \"\"\"\n",
    "    Function that takes a string parameter and returns it cleaned.\n",
    "    Lowercase, without stopwords, punctuation and stemmed\n",
    "    \"\"\"\n",
    "    stemmer = PorterStemmer()\n",
    "    stop_words = set(stopwords.words(\"english\"))\n",
    "    \n",
    "    text = text.lower()\n",
    "    text = text.translate(str.maketrans('', '', string.punctuation)).split()\n",
    "    text = [stemmer.stem(word) for word in text if word not in stop_words]\n",
    "    return \" \".join(text)"
   ]
  },
  {
   "cell_type": "code",
   "execution_count": 5,
   "id": "212f2bb0-623f-420e-bef7-2983f0c008d3",
   "metadata": {},
   "outputs": [],
   "source": [
    "corpus = []\n",
    "\n",
    "# We clean all entries of the dataframe\n",
    "for entry in df.itertuples():\n",
    "    text = entry.text\n",
    "    cleaned_text = clean_text_data(text)\n",
    "    corpus.append(cleaned_text)"
   ]
  },
  {
   "cell_type": "code",
   "execution_count": 6,
   "id": "c8273ffb-ad25-46d2-af29-4185e9f8c590",
   "metadata": {},
   "outputs": [
    {
     "ename": "",
     "evalue": "",
     "output_type": "error",
     "traceback": [
      "\u001b[1;31mThe Kernel crashed while executing code in the current cell or a previous cell. \n",
      "\u001b[1;31mPlease review the code in the cell(s) to identify a possible cause of the failure. \n",
      "\u001b[1;31mClick <a href='https://aka.ms/vscodeJupyterKernelCrash'>here</a> for more info. \n",
      "\u001b[1;31mView Jupyter <a href='command:jupyter.viewOutput'>log</a> for further details."
     ]
    }
   ],
   "source": [
    "vectorizer = CountVectorizer()\n",
    "\n",
    "X = vectorizer.fit_transform(corpus).toarray()\n",
    "y = df[\"label\"]\n",
    "\n",
    "X_train, X_test, y_train, y_test = train_test_split(X, y, test_size=0.2)"
   ]
  },
  {
   "cell_type": "code",
   "execution_count": 7,
   "id": "b471cfe6-2e04-447c-999c-42fc3b877716",
   "metadata": {},
   "outputs": [],
   "source": [
    "clf = RandomForestClassifier(n_jobs=-1)\n",
    "\n",
    "clf.fit(X_train, y_train)"
   ]
  },
  {
   "cell_type": "code",
   "execution_count": null,
   "id": "57a26f33-991c-47ba-9fce-a732f5147f95",
   "metadata": {},
   "outputs": [],
   "source": [
    "# Saving the model and vectorizer to a file using pickle\n",
    "# with open('email_classifier.pkl', 'wb') as file:\n",
    "#     pickle.dump({'model': clf, 'vectorizer': vectorizer}, file)"
   ]
  },
  {
   "cell_type": "code",
   "execution_count": null,
   "id": "caef77cc-96fb-469c-a920-1d0187ecc8e1",
   "metadata": {},
   "outputs": [
    {
     "ename": "NameError",
     "evalue": "name 'CountVectorizer' is not defined",
     "output_type": "error",
     "traceback": [
      "\u001b[0;31m---------------------------------------------------------------------------\u001b[0m",
      "\u001b[0;31mNameError\u001b[0m                                 Traceback (most recent call last)",
      "Cell \u001b[0;32mIn[1], line 1\u001b[0m\n\u001b[0;32m----> 1\u001b[0m \u001b[38;5;28;01mdef\u001b[39;00m \u001b[38;5;21memail_is_spam\u001b[39m(vectorizer: \u001b[43mCountVectorizer\u001b[49m, model: RandomForestClassifier, content: \u001b[38;5;28mstr\u001b[39m) \u001b[38;5;241m-\u001b[39m\u001b[38;5;241m>\u001b[39m \u001b[38;5;28mstr\u001b[39m:\n\u001b[1;32m      2\u001b[0m     vectorized_email \u001b[38;5;241m=\u001b[39m vectorizer\u001b[38;5;241m.\u001b[39mtransform([content])\n\u001b[1;32m      3\u001b[0m     result \u001b[38;5;241m=\u001b[39m model\u001b[38;5;241m.\u001b[39mpredict(vectorized_email)\n",
      "\u001b[0;31mNameError\u001b[0m: name 'CountVectorizer' is not defined"
     ]
    }
   ],
   "source": [
    "def email_is_spam(vectorizer: CountVectorizer, model: RandomForestClassifier, content: str) -> str:\n",
    "    vectorized_email = vectorizer.transform([content])\n",
    "    result = model.predict(vectorized_email)\n",
    "    if result[0] == 1:\n",
    "        return \"spam\"\n",
    "    else:\n",
    "        return \"ham\"\n",
    "\n",
    "email = \"Meeting agenda for next week attached. Please review.\"\n",
    "clean_email = clean_text_data(email)\n",
    "\n",
    "email_is_spam(vectorizer, clf, clean_email)"
   ]
  },
  {
   "cell_type": "code",
   "execution_count": null,
   "id": "937d665d",
   "metadata": {},
   "outputs": [],
   "source": [
    "# Check model accuracy\n",
    "\n",
    "clf.score(X_test, y_test)"
   ]
  }
 ],
 "metadata": {
  "kernelspec": {
   "display_name": "Python 3 (ipykernel)",
   "language": "python",
   "name": "python3"
  },
  "language_info": {
   "codemirror_mode": {
    "name": "ipython",
    "version": 3
   },
   "file_extension": ".py",
   "mimetype": "text/x-python",
   "name": "python",
   "nbconvert_exporter": "python",
   "pygments_lexer": "ipython3",
   "version": "3.11.2"
  }
 },
 "nbformat": 4,
 "nbformat_minor": 5
}
