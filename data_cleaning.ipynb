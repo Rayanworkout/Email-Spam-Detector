{
 "cells": [
  {
   "cell_type": "code",
   "execution_count": null,
   "id": "d206ccc9-cfd7-47a4-b6f8-96a3d203da9e",
   "metadata": {},
   "outputs": [],
   "source": [
    "import os\n",
    "import email\n",
    "import pandas as pd\n",
    "import html2text\n",
    "\n",
    "from IPython.display import clear_output\n",
    "\n",
    "# This notebook is an attempt to extract cleaned text data from my personal emails, extracted in a eml format.\n",
    "# This format stores everything about the email, including headers, style, attachments, etc."
   ]
  },
  {
   "cell_type": "code",
   "execution_count": null,
   "id": "c75b55e2-4a4c-4638-9b7f-f67c773ff640",
   "metadata": {},
   "outputs": [],
   "source": [
    "DATA_FOLDER = \"raw_eml_data\"\n",
    "\n",
    "# Words to remove from email files, lowercased\n",
    "PERSONAL_INFOS = [\"SENSITIVE\", \"CONFIDENTIAL\", \"PRIVATE\", \"PERSONAL\", \"SECRET\"]"
   ]
  },
  {
   "cell_type": "code",
   "execution_count": null,
   "id": "f995a0b5-7291-45f3-a57b-1cb1782b645a",
   "metadata": {
    "scrolled": true
   },
   "outputs": [],
   "source": [
    "def remove_personal_infos(personal_infos: list, data_folder: str = \"raw_data\") -> None:\n",
    "    \"\"\"\n",
    "    Remove sensitive data from a list of eml files, for example a name of phone number.\n",
    "    \"\"\"\n",
    "    eml_files = [file for file in os.listdir(data_folder) if file.endswith('.eml')]\n",
    "    \n",
    "    for file in eml_files:\n",
    "        path = os.path.join(data_folder, file)\n",
    "        with open(path, 'rb') as f:\n",
    "            content = f.read().decode('utf-8', errors='ignore').lower()\n",
    "        \n",
    "        counter = 0\n",
    "        for info in personal_infos:\n",
    "            info = info.lower()\n",
    "            if info in content:\n",
    "                counter += content.count(info)  # Count occurrences\n",
    "                modified_content = content.replace(info, \"redacted\")\n",
    "        \n",
    "        if counter > 0:\n",
    "            with open(path, 'wb') as f:\n",
    "                f.write(modified_content.encode('utf-8'))\n",
    "            print(f\"Removed {counter} occurrence(s) from \\\"{file}\\\".\")\n",
    "        else:\n",
    "            clear_output(wait=True)\n",
    "            print(f\"No changes made to \\\"{file}\\\".\")\n",
    "    \n",
    "    clear_output(wait=True)\n",
    "    print(\"Done.\")\n",
    "\n",
    "\n",
    "remove_personal_infos(PERSONAL_INFOS, DATA_FOLDER)"
   ]
  },
  {
   "cell_type": "code",
   "execution_count": null,
   "id": "fb361c0f-515b-4457-b13b-5e3cd88fffa4",
   "metadata": {},
   "outputs": [],
   "source": [
    "h = html2text.HTML2Text()\n",
    "\n",
    "def parse_eml(raw_email) -> str:\n",
    "    text_parts = []\n",
    "    \n",
    "    if raw_email.is_multipart():\n",
    "        for part in raw_email.walk():\n",
    "            content_type = part.get_content_type()\n",
    "            if content_type in ['text/plain', 'text/html']:\n",
    "                charset = part.get_content_charset() or 'utf-8'\n",
    "                message = part.get_payload(decode=True)\n",
    "                decoded_message = message.decode(charset, 'ignore')\n",
    "                plain_message = h.handle(decoded_message)\n",
    "                text_parts.append(plain_message)\n",
    "                \n",
    "        text = ' '.join(text_parts)\n",
    "    else:\n",
    "        charset = raw_email.get_content_charset() or 'utf-8'\n",
    "        message = raw_email.get_payload(decode=True)\n",
    "        text = message.decode(charset, 'ignore')\n",
    "        text = h.handle(text)\n",
    "\n",
    "    return text.strip()"
   ]
  },
  {
   "cell_type": "code",
   "execution_count": 16,
   "id": "eb929550-74bf-4b86-b7bd-59d1fa2cbedb",
   "metadata": {},
   "outputs": [
    {
     "name": "stdout",
     "output_type": "stream",
     "text": [
      "Done.\n"
     ]
    }
   ],
   "source": [
    "def process_all_files(export_csv: bool = False, data_folder: str = \"raw_data\"):\n",
    "    eml_files = [file for file in os.listdir(data_folder) if file.endswith('.eml')]\n",
    "    \n",
    "    texts = []\n",
    "    labels = []\n",
    "    \n",
    "    for counter, file in enumerate(eml_files):\n",
    "        print(f\"Processing file {counter + 1} / {len(eml_files)}\")\n",
    "        clear_output(wait=True)\n",
    "        labels.append(1)\n",
    "        path = os.path.join(DATA_FOLDER, file)\n",
    "        with open(path) as f:\n",
    "            raw_email = email.message_from_file(f)\n",
    "            parsed_email = parse_eml(raw_email)\n",
    "            texts.append(parsed_email)\n",
    "\n",
    "    clear_output(wait=True)\n",
    "    print(\"Done.\")\n",
    "    \n",
    "    df = pd.DataFrame({\n",
    "        \"label\": labels,\n",
    "        \"text\": texts\n",
    "    })\n",
    "\n",
    "    # Remove unwanted chars\n",
    "    for char in [\"\\n\", \"|\", \"-\"]:\n",
    "        df[\"text\"] = df[\"text\"].apply(lambda x: x.replace(char, \"\"))\n",
    "\n",
    "    df[\"text\"] = df[\"text\"].apply(lambda entry: entry.strip())\n",
    "\n",
    "    df = df[~df['text'].str.contains(\"github\")]\n",
    "\n",
    "    df = df[df['text'].str.strip() != '']\n",
    "    \n",
    "    # Remove rows where 'text' column is NaN\n",
    "    df = df.dropna(subset=['text'])\n",
    "                                \n",
    "    if export_csv is True:\n",
    "        df.to_csv(\"email_dataset.csv\",index=False)\n",
    "\n",
    "    return df\n",
    "\n",
    "df = process_all_files()"
   ]
  }
 ],
 "metadata": {
  "kernelspec": {
   "display_name": "Python 3 (ipykernel)",
   "language": "python",
   "name": "python3"
  },
  "language_info": {
   "codemirror_mode": {
    "name": "ipython",
    "version": 3
   },
   "file_extension": ".py",
   "mimetype": "text/x-python",
   "name": "python",
   "nbconvert_exporter": "python",
   "pygments_lexer": "ipython3",
   "version": "3.11.2"
  }
 },
 "nbformat": 4,
 "nbformat_minor": 5
}
